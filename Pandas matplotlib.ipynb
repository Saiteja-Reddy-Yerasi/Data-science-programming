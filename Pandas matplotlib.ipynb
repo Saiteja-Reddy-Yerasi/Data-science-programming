{
 "cells": [
  {
   "cell_type": "markdown",
   "id": "c7f94f27",
   "metadata": {},
   "source": [
    "---------------------------------------------- Loading the NYC_restaurants.csv file into a dataframe------------------------"
   ]
  },
  {
   "cell_type": "code",
   "execution_count": 1,
   "id": "09378967",
   "metadata": {},
   "outputs": [
    {
     "name": "stdout",
     "output_type": "stream",
     "text": [
      "Populating the interactive namespace from numpy and matplotlib\n"
     ]
    }
   ],
   "source": [
    "from pandas import Series, DataFrame\n",
    "import pandas as pd\n",
    "%pylab inline"
   ]
  },
  {
   "cell_type": "code",
   "execution_count": 2,
   "id": "902edb63",
   "metadata": {},
   "outputs": [
    {
     "data": {
      "text/plain": [
       "array(['Unnamed: 0', 'CAMIS', 'DBA', 'BORO', 'BUILDING', 'STREET',\n",
       "       'ZIPCODE', 'PHONE', 'CUISINE DESCRIPTION', 'INSPECTION DATE',\n",
       "       'ACTION', 'VIOLATION CODE', 'VIOLATION DESCRIPTION',\n",
       "       'CRITICAL FLAG', 'SCORE', 'GRADE', 'GRADE DATE', 'RECORD DATE',\n",
       "       'INSPECTION TYPE'], dtype=object)"
      ]
     },
     "execution_count": 2,
     "metadata": {},
     "output_type": "execute_result"
    }
   ],
   "source": [
    "df = pd.read_csv('NYC_Restaurants.csv', dtype=str)\n",
    "len(df)\n",
    "df.columns.values"
   ]
  },
  {
   "cell_type": "code",
   "execution_count": 30,
   "id": "d22ada74",
   "metadata": {},
   "outputs": [
    {
     "data": {
      "text/plain": [
       "44633"
      ]
     },
     "execution_count": 30,
     "metadata": {},
     "output_type": "execute_result"
    }
   ],
   "source": [
    "len(df)"
   ]
  },
  {
   "cell_type": "markdown",
   "id": "c553b0bb",
   "metadata": {},
   "source": [
    "-------------------------------------------------- Solutions ------------------------------------------------------"
   ]
  },
  {
   "cell_type": "markdown",
   "id": "11b56f12",
   "metadata": {},
   "source": [
    "# Q1 \n",
    "Create a unique name for each restaurant.\n"
   ]
  },
  {
   "cell_type": "code",
   "execution_count": 31,
   "id": "b47f2b11",
   "metadata": {},
   "outputs": [
    {
     "data": {
      "text/plain": [
       "0           WENDY'S 469 FLATBUSH AVENUE 11225 BROOKLYN\n",
       "1           WENDY'S 469 FLATBUSH AVENUE 11225 BROOKLYN\n",
       "2           WENDY'S 469 FLATBUSH AVENUE 11225 BROOKLYN\n",
       "3           WENDY'S 469 FLATBUSH AVENUE 11225 BROOKLYN\n",
       "4           WENDY'S 469 FLATBUSH AVENUE 11225 BROOKLYN\n",
       "5        TOV KOSHER KITCHEN 97-22 63 ROAD 11374 QUEENS\n",
       "6        TOV KOSHER KITCHEN 97-22 63 ROAD 11374 QUEENS\n",
       "7        TOV KOSHER KITCHEN 97-22 63 ROAD 11374 QUEENS\n",
       "8        TOV KOSHER KITCHEN 97-22 63 ROAD 11374 QUEENS\n",
       "9    BRUNOS ON THE BOULEVARD 8825 ASTORIA BOULEVARD...\n",
       "Name: RESTAURANT, dtype: object"
      ]
     },
     "execution_count": 31,
     "metadata": {},
     "output_type": "execute_result"
    }
   ],
   "source": [
    "#create new column -> combines DBA, BUILDING, STREET, ZIPCODE, and BORO fields\n",
    "df['RESTAURANT'] = df['DBA'] + ' ' + df['BUILDING'] + ' ' + df['STREET'] + \" \" + df['ZIPCODE'] + ' ' + df['BORO'] \n",
    "\n",
    "df['RESTAURANT'][:10]"
   ]
  },
  {
   "cell_type": "markdown",
   "id": "be71d5c2",
   "metadata": {},
   "source": [
    "# Q2\n",
    "How many restaurants are included in the data?"
   ]
  },
  {
   "cell_type": "code",
   "execution_count": 32,
   "id": "21d46d70",
   "metadata": {},
   "outputs": [
    {
     "data": {
      "text/plain": [
       "10101"
      ]
     },
     "execution_count": 32,
     "metadata": {},
     "output_type": "execute_result"
    }
   ],
   "source": [
    "df_q2 = df.drop_duplicates(subset = 'RESTAURANT')\n",
    "len(df_q2['DBA'])\n",
    "\n",
    "# there are 10112 restaurants in this file "
   ]
  },
  {
   "cell_type": "markdown",
   "id": "4eac47f0",
   "metadata": {},
   "source": [
    "# Q3\n",
    "How many chains are there?"
   ]
  },
  {
   "cell_type": "code",
   "execution_count": 33,
   "id": "e0169b4e",
   "metadata": {},
   "outputs": [
    {
     "data": {
      "text/plain": [
       "368"
      ]
     },
     "execution_count": 33,
     "metadata": {},
     "output_type": "execute_result"
    }
   ],
   "source": [
    "DBA_occurence = df_q2['DBA'].value_counts() #len = 8816 \n",
    "\n",
    "#chain restaurant\n",
    "chain = DBA_occurence[DBA_occurence  >= 2]  \n",
    "\n",
    "#not a chain restaurant\n",
    "not_a_chain = DBA_occurence[DBA_occurence == 1]  \n",
    "\n",
    "len(chain) "
   ]
  },
  {
   "cell_type": "markdown",
   "id": "bada20fd",
   "metadata": {},
   "source": [
    "# Q4\n",
    "Plot a bar graph of the top 20 most popular chains."
   ]
  },
  {
   "cell_type": "code",
   "execution_count": 34,
   "id": "0dc34709",
   "metadata": {},
   "outputs": [
    {
     "data": {
      "text/plain": [
       "<matplotlib.axes._subplots.AxesSubplot at 0x16f7b284308>"
      ]
     },
     "execution_count": 34,
     "metadata": {},
     "output_type": "execute_result"
    },
    {
     "data": {
      "image/png": "[encoded data removed]",
      "text/plain": [
       "<Figure size 432x288 with 1 Axes>"
      ]
     },
     "metadata": {
      "needs_background": "light"
     },
     "output_type": "display_data"
    }
   ],
   "source": [
    "chain[:20].plot(kind = 'bar')"
   ]
  },
  {
   "cell_type": "markdown",
   "id": "9615a62a",
   "metadata": {},
   "source": [
    "# Q5 \n",
    "What fraction of all restaurants are chain restaurants?"
   ]
  },
  {
   "cell_type": "code",
   "execution_count": 35,
   "id": "5fe78682",
   "metadata": {},
   "outputs": [
    {
     "data": {
      "text/plain": [
       "0.16424116424116425"
      ]
     },
     "execution_count": 35,
     "metadata": {},
     "output_type": "execute_result"
    }
   ],
   "source": [
    "fraction = sum(chain) / len(df_q2['RESTAURANT'])\n",
    "fraction\n",
    "#16.4%"
   ]
  },
  {
   "cell_type": "markdown",
   "id": "dd4aebfc",
   "metadata": {},
   "source": [
    "# Q6\n",
    "Plot the number of non-chain restaurants in each boro."
   ]
  },
  {
   "cell_type": "code",
   "execution_count": 36,
   "id": "6b918b48",
   "metadata": {},
   "outputs": [
    {
     "data": {
      "image/png": "[encoded data removed]",
      "text/plain": [
       "<Figure size 432x288 with 1 Axes>"
      ]
     },
     "metadata": {
      "needs_background": "light"
     },
     "output_type": "display_data"
    }
   ],
   "source": [
    "#select BORO and RESTAURANT from full dataset \n",
    "df_q6 = df_q2[df_q2['BORO'] != 'Missing'][['BORO', 'DBA']]\n",
    "\n",
    "#set index\n",
    "df_q6_tmp = df_q6.set_index('DBA')\n",
    "\n",
    "#create series\n",
    "df_q6_tmp_series = df_q6_tmp['BORO']\n",
    "\n",
    "#plot only non-chain restaurants based on BORO\n",
    "mask2 = df_q6_tmp_series.index.value_counts() == 1\n",
    "df_q6_nonchain = df_q6_tmp_series[mask2].value_counts()\n",
    "df_q6_nonchain\n",
    "\n",
    "df_q6_final_plot = df_q6_nonchain.plot(kind = 'bar')"
   ]
  },
  {
   "cell_type": "markdown",
   "id": "193e0dbe",
   "metadata": {},
   "source": [
    "# Q7\n",
    "Plot the fraction of non-chain restaurants in each boro."
   ]
  },
  {
   "cell_type": "code",
   "execution_count": 37,
   "id": "9962e29f",
   "metadata": {},
   "outputs": [
    {
     "data": {
      "text/plain": [
       "<matplotlib.axes._subplots.AxesSubplot at 0x16f7e111b48>"
      ]
     },
     "execution_count": 37,
     "metadata": {},
     "output_type": "execute_result"
    },
    {
     "data": {
      "image/png": "[encoded data removed]",
      "text/plain": [
       "<Figure size 432x288 with 1 Axes>"
      ]
     },
     "metadata": {
      "needs_background": "light"
     },
     "output_type": "display_data"
    }
   ],
   "source": [
    "#Divides the number of non-chain restaurants per borough by the total number of restaurants per borough\n",
    "q7_total = df_q6_tmp['BORO'].value_counts()\n",
    "df_q7 = df_q6_nonchain / q7_total\n",
    "\n",
    "df_q7.sort_values(ascending = False).plot(kind = 'bar')"
   ]
  },
  {
   "cell_type": "markdown",
   "id": "515c8721",
   "metadata": {},
   "source": [
    "#### Despite having the most independent restaurants, Manhattan does not have the highest ratio of independent restaurants."
   ]
  },
  {
   "cell_type": "markdown",
   "id": "d36180a2",
   "metadata": {},
   "source": [
    "# Q8\n",
    "Plot the popularity of cuisines."
   ]
  },
  {
   "cell_type": "code",
   "execution_count": 38,
   "id": "92deff49",
   "metadata": {},
   "outputs": [
    {
     "data": {
      "image/png": "[encoded data removed]",
      "text/plain": [
       "<Figure size 432x288 with 1 Axes>"
      ]
     },
     "metadata": {
      "needs_background": "light"
     },
     "output_type": "display_data"
    }
   ],
   "source": [
    "#Create DataFrame of 'CUISINE DESCRIPTION' indexed by 'RESTAURANT' from our DF of unique restaurants. \n",
    "cuisine = df_q2[['CUISINE DESCRIPTION', 'RESTAURANT']]\n",
    "cuisine_temp = cuisine.set_index('RESTAURANT')\n",
    "cuisine_temp_series = cuisine_temp['CUISINE DESCRIPTION']\n",
    "\n",
    "q8_final_plot = cuisine_temp_series.value_counts()[:20].plot(kind = 'bar')"
   ]
  },
  {
   "cell_type": "markdown",
   "id": "a9088574",
   "metadata": {},
   "source": [
    "# Q9\n",
    "Plot the cuisines among restaurants which never got cited for violations."
   ]
  },
  {
   "cell_type": "code",
   "execution_count": 39,
   "id": "9fa1ae7c",
   "metadata": {},
   "outputs": [
    {
     "data": {
      "image/png": "[encoded data removed]",
      "text/plain": [
       "<Figure size 432x288 with 1 Axes>"
      ]
     },
     "metadata": {
      "needs_background": "light"
     },
     "output_type": "display_data"
    }
   ],
   "source": [
    "#Create mask from restaurants that are NAN and do not appear in the list of restaurants that recieved a violation\n",
    "violation = df[df['VIOLATION CODE'].notnull()]\n",
    "no_violation = df[df['VIOLATION CODE'].isnull()]\n",
    "mask = ~no_violation['RESTAURANT'].isin(violation['RESTAURANT'])\n",
    "\n",
    "df_q9_temp_series = no_violation[mask]\n",
    "q9_final = df_q9_temp_series.drop_duplicates('RESTAURANT')['CUISINE DESCRIPTION'].value_counts()\n",
    "q9_final_plot = q9_final[:20].plot(kind = 'bar')"
   ]
  },
  {
   "cell_type": "markdown",
   "id": "d1926ad4",
   "metadata": {},
   "source": [
    "# Q10\n",
    "What cuisines tend to be the “cleanest”?"
   ]
  },
  {
   "cell_type": "code",
   "execution_count": 40,
   "id": "f8af3272",
   "metadata": {},
   "outputs": [
    {
     "name": "stdout",
     "output_type": "stream",
     "text": [
      "Soul Food                        0.090909\n",
      "Vietnamese/Cambodian/Malaysia    0.062500\n",
      "Other                            0.058252\n",
      "Soups & Sandwiches               0.047619\n",
      "Continental                      0.047619\n",
      "Barbecue                         0.047619\n",
      "Asian                            0.041096\n",
      "Chinese                          0.038251\n",
      "Greek                            0.036364\n",
      "Peruvian                         0.035714\n",
      "Name: CUISINE DESCRIPTION, dtype: float64\n"
     ]
    }
   ],
   "source": [
    "#creating mask for cuisines with atleast 20 restaurant listings\n",
    "mask = df.drop_duplicates(subset = ['CUISINE DESCRIPTION','RESTAURANT'])['CUISINE DESCRIPTION'].value_counts() >= 20\n",
    "\n",
    "list_of_cuisines = df.drop_duplicates(subset = ['CUISINE DESCRIPTION','RESTAURANT'])['CUISINE DESCRIPTION'].value_counts()[mask]\n",
    "\n",
    "#filtering my input for cuisines with atleast 20 restaurant listings\n",
    "mask_2 = df['CUISINE DESCRIPTION'].isin(list_of_cuisines.index)\n",
    "filtered_df = df[mask_2]\n",
    "\n",
    "#popularity count\n",
    "q8_count = filtered_df.drop_duplicates(subset = ['CUISINE DESCRIPTION', 'RESTAURANT'])['CUISINE DESCRIPTION'].value_counts()\n",
    "\n",
    "#clean restaurants / popularity count for cuisines with atleast 20 restaurant listings\n",
    "q10_final = q9_final / q8_count\n",
    "\n",
    "#printing the top 10 cuisines\n",
    "q10_final = q10_final.sort_values(ascending=False)[:10]\n",
    "print(q10_final)"
   ]
  },
  {
   "cell_type": "markdown",
   "id": "7a6f551b",
   "metadata": {},
   "source": [
    "# Q11\n",
    "What are the most common violations in each borough?"
   ]
  },
  {
   "cell_type": "code",
   "execution_count": 41,
   "id": "8d6e2f8d",
   "metadata": {},
   "outputs": [
    {
     "data": {
      "text/plain": [
       "BORO\n",
       "BRONX            Non-food contact surface improperly constructe...\n",
       "BROOKLYN         Non-food contact surface improperly constructe...\n",
       "MANHATTAN        Non-food contact surface improperly constructe...\n",
       "QUEENS           Non-food contact surface improperly constructe...\n",
       "STATEN ISLAND    Non-food contact surface improperly constructe...\n",
       "dtype: object"
      ]
     },
     "execution_count": 41,
     "metadata": {},
     "output_type": "execute_result"
    }
   ],
   "source": [
    "#Change all 'BORO' values labeled as missing to NaN\n",
    "mask = (df['BORO'] == 'Missing')\n",
    "df.loc[mask, 'BORO'] = np.nan \n",
    "\n",
    "#Return the 'VIOLATION DESCRIPTION' with the highest count for each 'BORO' \n",
    "df_q11 = pd.crosstab(df['BORO'], df['VIOLATION DESCRIPTION'])\n",
    "df_q11.idxmax(axis = 1)"
   ]
  },
  {
   "cell_type": "markdown",
   "id": "8c92b48e",
   "metadata": {},
   "source": [
    "# Q12\n",
    "What are the most common violations per borough, \n",
    "after normalizing for the relative abundance of each violation?"
   ]
  },
  {
   "cell_type": "code",
   "execution_count": 42,
   "id": "37d3d429",
   "metadata": {},
   "outputs": [
    {
     "data": {
      "text/plain": [
       "BORO\n",
       "BRONX                                  Unprotected food re-served.\n",
       "BROOKLYN         Precooked potentially hazardous food from comm...\n",
       "MANHATTAN        Out-of package sale of tobacco products observed.\n",
       "QUEENS           Caloric content range (minimum to maximum) not...\n",
       "STATEN ISLAND    Eggs found dirty/cracked; liquid, frozen or po...\n",
       "dtype: object"
      ]
     },
     "execution_count": 42,
     "metadata": {},
     "output_type": "execute_result"
    }
   ],
   "source": [
    "#Get overall frequencies\n",
    "violationFrequency = df['VIOLATION DESCRIPTION'].value_counts()\n",
    "\n",
    "#Normalize\n",
    "q12_normalize = df_q11 / violationFrequency\n",
    "\n",
    "#Find the biggest violations\n",
    "q12_normalize.idxmax(axis = 1)"
   ]
  },
  {
   "cell_type": "markdown",
   "id": "f07103a3",
   "metadata": {},
   "source": [
    "# Q13\n",
    "How many phone area codes correspond to a single zipcode?"
   ]
  },
  {
   "cell_type": "code",
   "execution_count": 43,
   "id": "2b8845e8",
   "metadata": {},
   "outputs": [
    {
     "name": "stderr",
     "output_type": "stream",
     "text": [
      "C:\\Users\\Andre\\AppData\\Local\\Continuum\\anaconda3\\lib\\site-packages\\ipykernel_launcher.py:5: SettingWithCopyWarning: \n",
      "A value is trying to be set on a copy of a slice from a DataFrame.\n",
      "Try using .loc[row_indexer,col_indexer] = value instead\n",
      "\n",
      "See the caveats in the documentation: http://pandas.pydata.org/pandas-docs/stable/user_guide/indexing.html#returning-a-view-versus-a-copy\n",
      "  \"\"\"\n",
      "C:\\Users\\Andre\\AppData\\Local\\Continuum\\anaconda3\\lib\\site-packages\\ipykernel_launcher.py:9: SettingWithCopyWarning: \n",
      "A value is trying to be set on a copy of a slice from a DataFrame\n",
      "\n",
      "See the caveats in the documentation: http://pandas.pydata.org/pandas-docs/stable/user_guide/indexing.html#returning-a-view-versus-a-copy\n",
      "  if __name__ == '__main__':\n"
     ]
    },
    {
     "data": {
      "text/plain": [
       "35"
      ]
     },
     "execution_count": 43,
     "metadata": {},
     "output_type": "execute_result"
    }
   ],
   "source": [
    "#Create new column 'AREA CODE' from first 3 numbers of 'PHONE'\n",
    "def areaCode(number):\n",
    "    return number[:3]\n",
    "INPUT_DEDUPED = df.drop_duplicates(subset = 'RESTAURANT') \n",
    "INPUT_DEDUPED['AREA CODE'] = INPUT_DEDUPED['PHONE'].apply(lambda x: areaCode(x))\n",
    "\n",
    "#Change any blank 'AREA CODE' into NaN\n",
    "mask = (INPUT_DEDUPED['AREA CODE'] == '___')\n",
    "INPUT_DEDUPED.loc[mask, 'AREA CODE'] = np.nan \n",
    "\n",
    "#Find 'AREA CODE' allign with a single 'ZIPCODE'\n",
    "Df_unique = INPUT_DEDUPED.drop_duplicates(subset=['ZIPCODE', 'AREA CODE'])\n",
    "mask_q13 = Df_unique['AREA CODE'].value_counts()\n",
    "final_q13 = mask_q13[mask_q13 == 1]\n",
    "\n",
    "len(final_q13)"
   ]
  },
  {
   "cell_type": "markdown",
   "id": "3f10689d",
   "metadata": {},
   "source": [
    "# Q14\n",
    "Find common misspellings of street names"
   ]
  },
  {
   "cell_type": "code",
   "execution_count": 44,
   "id": "1478cfcb",
   "metadata": {},
   "outputs": [
    {
     "data": {
      "text/plain": [
       "STREET TYPE_y\n",
       "AVE         AVENUE\n",
       "ST          STREET\n",
       "RD            ROAD\n",
       "PL           PLACE\n",
       "BOULEARD      BLVD\n",
       "BULEVARD      BLVD\n",
       "dtype: object"
      ]
     },
     "execution_count": 44,
     "metadata": {},
     "output_type": "execute_result"
    }
   ],
   "source": [
    "#Function to find the last word in a string\n",
    "def lastWord(string): \n",
    "    temp_list = list(string.split(\" \"))\n",
    "    return temp_list[len(temp_list)-1]\n",
    "\n",
    "#Function to return all but last word in a stringg\n",
    "def notLastWord(string):\n",
    "    temp_list = list(string.split(\" \"))\n",
    "    return \" \".join(temp_list[:-1])        \n",
    " \n",
    "#Creates 'STREET TYPE', 'STREET BASE', and 'STREET BASE & ZIP' Columns\n",
    "df['STREET TYPE'] = df['STREET'].apply(lambda x: lastWord(x))\n",
    "df['STREET BASE'] = df['STREET'].apply(lambda x: notLastWord(x))\n",
    "df['STREET BASE & ZIP'] = df['STREET BASE'] + \" \" + df['ZIPCODE']\n",
    "\n",
    "#Creates DF from 'STREET TYPE', 'STREET BASE', and 'STREET BASE & ZIP' and merges them on 'STREET BASE & ZIP'\n",
    "street_table = DataFrame(df, columns = ['STREET TYPE', 'STREET BASE', 'STREET BASE & ZIP']).drop_duplicates()\n",
    "\n",
    "street_table_merged = street_table.merge(street_table,\n",
    "                                         left_on = 'STREET BASE & ZIP',\n",
    "                                         right_on = 'STREET BASE & ZIP')\n",
    "\n",
    "#Create cross tab where 'STREET TYPE' differed and returns most common street types that occured for AVE, ST, RD, PL, BOULEARD,and BULEVARD. \n",
    "street_table_different = street_table_merged[street_table_merged['STREET TYPE_x'] != street_table_merged['STREET TYPE_y']] \n",
    "xtab_street_table_different = pd.crosstab(street_table_different['STREET TYPE_x'], street_table_different['STREET TYPE_y']) \n",
    "xtab_street_table_different[['AVE', 'ST', 'RD', 'PL','BOULEARD', 'BULEVARD']].idxmax()\n"
   ]
  }
 ],
 "metadata": {
  "kernelspec": {
   "display_name": "Python 3",
   "language": "python",
   "name": "python3"
  },
  "language_info": {
   "codemirror_mode": {
    "name": "ipython",
    "version": 3
   },
   "file_extension": ".py",
   "mimetype": "text/x-python",
   "name": "python",
   "nbconvert_exporter": "python",
   "pygments_lexer": "ipython3",
   "version": "3.8.8"
  }
 },
 "nbformat": 4,
 "nbformat_minor": 5
}
