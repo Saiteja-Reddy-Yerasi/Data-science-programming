{
 "cells": [
  {
   "cell_type": "markdown",
   "id": "ea485c08",
   "metadata": {},
   "source": [
    "## 1. Rock, Paper, Scissors"
   ]
  },
  {
   "cell_type": "code",
   "execution_count": 2,
   "id": "a886e9f9",
   "metadata": {
    "scrolled": true
   },
   "outputs": [
    {
     "name": "stdout",
     "output_type": "stream",
     "text": [
      "Please enter your choice: Rock\n",
      "Rock\n",
      "Result is a draw\n",
      "Enter your choice from the following options only!\n",
      "['Rock', 'Paper', 'Scissors', 'Quit']\n",
      "Please enter your choice: Paper\n",
      "Paper\n",
      "Result is a draw\n",
      "Enter your choice from the following options only!\n",
      "['Rock', 'Paper', 'Scissors', 'Quit']\n",
      "Please enter your choice: Quit\n",
      "Number of games played : 2\n",
      "Number of games won by human : 0\n"
     ]
    }
   ],
   "source": [
    "import random\n",
    "\n",
    "human_choice_list = ['Rock', 'Paper', 'Scissors', 'Quit']\n",
    "computer_choice_list = ['Rock', 'Paper', 'Scissors']\n",
    "\n",
    "human_input = str(input(\"Please enter your choice: \"))\n",
    "\n",
    "number_of_games_played = 0\n",
    "number_of_games_won_by_human = 0\n",
    "\n",
    "while True:\n",
    "    if human_input != 'Quit':\n",
    "        while True:\n",
    "            if human_input not in human_choice_list:\n",
    "                print(\"Enter your choice from the following options only!\")\n",
    "                print(human_choice_list)\n",
    "                human_input = str(input(\"Please enter your choice: \"))\n",
    "            else:\n",
    "                break    \n",
    "    if human_input =='Quit':\n",
    "        print('Number of games played :', number_of_games_played)\n",
    "        print('Number of games won by human :', number_of_games_won_by_human) \n",
    "        break\n",
    "    computer_input = random.choice(computer_choice_list) \n",
    "    if human_input == computer_input:\n",
    "        print ('Result is a draw')\n",
    "    elif (human_input == 'Rock' and computer_input == 'Scissors') or (human_input == 'Paper' and computer_input == 'Rock') or (human_input == 'Scissors' and computer_input == 'Paper'):\n",
    "        number_of_games_won_by_human = number_of_games_won_by_human + 1\n",
    "        print ('Human Won')\n",
    "    else:\n",
    "        print ('Human Lost')\n",
    "    number_of_games_played = number_of_games_played + 1\n",
    "    rock = 0\n",
    "    paper = 0\n",
    "    scissors = 0\n",
    "    \n",
    "    # the choices for computer will be updated based on human inputs\n",
    "    # the choice list in an indirect way of introducing biasing in the computer's choice\n",
    "    \n",
    "    if human_input == human_choice_list[0]:\n",
    "        rock = rock + 1\n",
    "    elif human_input == human_choice_list[1]:\n",
    "        paper = paper + 1\n",
    "    elif human_input == human_choice_list[2]:\n",
    "        scissors = scissors + 1\n",
    "    if rock > paper and rock > scissors:\n",
    "        computer_choice_list = ['Paper']\n",
    "    elif paper > rock and paper > scissors:\n",
    "        computer_choice_list = ['Scissors']\n",
    "    elif scissors > rock and scissors > paper:\n",
    "        computer_choice_list = ['Rock']\n",
    "    elif paper == rock and rock > scissors:\n",
    "        computer_choice_list = ['Rock', 'Paper']\n",
    "    elif paper == scissors and paper > rock:\n",
    "        computer_choice_list = ['Paper', 'Scissors']\n",
    "    elif scissors == rock and scissors > paper:\n",
    "        computer_choice_list = ['Rock', 'Scissors']\n",
    "    else:\n",
    "        computer_choice_list = ['Rock', 'Paper', 'Scissors']\n",
    "    human_input = ''"
   ]
  },
  {
   "cell_type": "markdown",
   "id": "dac6e576",
   "metadata": {},
   "source": [
    "## 2. Voters in Florida"
   ]
  },
  {
   "cell_type": "code",
   "execution_count": 3,
   "id": "065dcdf9",
   "metadata": {
    "scrolled": true
   },
   "outputs": [
    {
     "name": "stdout",
     "output_type": "stream",
     "text": [
      "   LAFAYETTE    2672    1373\n",
      "      GLADES    3110    2190\n",
      "     LIBERTY    3372     720\n",
      "       UNION    3579    2752\n",
      "   GILCHRIST    3652    5789\n",
      "    FRANKLIN    4319    2234\n",
      "      HOLMES    4434    5282\n",
      "        GULF    4521    4234\n",
      "      HARDEE    4702    4859\n",
      "    HAMILTON    4796    2154\n",
      "       DIXIE    4839    3314\n",
      "     CALHOUN    5324    2201\n",
      "  WASHINGTON    5687    7101\n",
      "   JEFFERSON    5802    2636\n",
      "       BAKER    5813    6963\n",
      "    BRADFORD    6533    6878\n",
      "      TAYLOR    6915    3950\n",
      "     MADISON    7158    2992\n",
      "      DESOTO    7181    4870\n",
      "  OKEECHOBEE    7756    7755\n",
      "      HENDRY    7999    5862\n",
      "     WAKULLA    8889    7374\n",
      "        LEVY    9509   11665\n",
      "      WALTON   10013   25609\n",
      "    SUWANNEE   11126   10745\n",
      "      NASSAU   14013   32958\n",
      "    COLUMBIA   14797   15790\n",
      "     JACKSON   15706    9626\n",
      "      MONROE   17614   20602\n",
      "   HIGHLANDS   19997   27100\n",
      "      PUTNAM   20606   17067\n",
      "     GADSDEN   22161    4372\n",
      "      SUMTER   22977   47158\n",
      "     FLAGLER   24734   30047\n",
      "    OKALOOSA   25172   75154\n",
      "  SANTA ROSA   26114   73627\n",
      "      MARTIN   27358   53800\n",
      "INDIAN RIVER   28204   47794\n",
      "      CITRUS   30440   46373\n",
      "         BAY   30733   57456\n",
      "        CLAY   31285   76584\n",
      "   CHARLOTTE   35602   54421\n",
      "   ST. JOHNS   39531   88385\n",
      "    HERNANDO   42499   51254\n",
      "     COLLIER   45511  100167\n",
      "        LAKE   67237   93604\n",
      "     MANATEE   67926   96063\n",
      "    ESCAMBIA   70180   90265\n",
      "     OSCEOLA   75657   44594\n",
      "   ST. LUCIE   76163   59626\n",
      "      MARION   76268   97306\n",
      "     ALACHUA   77996   47329\n",
      "    SARASOTA   89711  125872\n",
      "    SEMINOLE   91686  107833\n",
      "        LEON  103140   54554\n",
      "       PASCO  104324  125305\n",
      "         LEE  114633  180718\n",
      "     VOLUSIA  124136  121402\n",
      "     BREVARD  127435  167129\n",
      "        POLK  143799  140619\n",
      "    PINELLAS  221968  223077\n",
      "       DUVAL  229501  210195\n",
      "      ORANGE  303458  206174\n",
      "HILLSBOROUGH  314265  257436\n",
      "  PALM BEACH  367236  245452\n",
      "  MIAMI-DADE  539367  362161\n",
      "     BROWARD  566185  249762\n",
      "       Total 4637026 4377713\n"
     ]
    }
   ],
   "source": [
    "#importing regex and pandas\n",
    "\n",
    "import re\n",
    "import pandas as pd\n",
    "import math\n",
    "\n",
    "# reading file\n",
    "\n",
    "f = open('FloridaVoters.html', 'r')\n",
    "text  = f.read()\n",
    "\n",
    "f.close()\n",
    "\n",
    "# first let's extract county names\n",
    "# looking at the HTML table folloing regex is able to extract all the county name. \n",
    "# Note: Last entry to total will be missed here.\n",
    "\n",
    "county = re.findall('<td>([A-Z\\s\\.-]+)</td>', text)\n",
    "\n",
    "county.append(\"Total\")\n",
    "\n",
    "# lets' extract all the numbers\n",
    "# total number of cols in table is 5. \n",
    "# Therefore, total count of numbers expected is 5 * no of counties\n",
    "\n",
    "numbers = re.findall('<td>(\\d*,?\\d*,?\\d+)</td>', text)\n",
    "\n",
    "if(not len(numbers) == (len(county) * 5)):\n",
    "    print(\"fix your extraction\")\n",
    "    \n",
    "\n",
    "\n",
    "# let's remove all the commas from numbers and convert them into ints\n",
    "\n",
    "votes = [int(x.replace(',','')) for x in numbers]\n",
    "\n",
    "# we only need democratci and republic voting count. so, we'll drop everything else\n",
    "\n",
    "democratic_vote_count = []\n",
    "republic_vote_count = []\n",
    "\n",
    "for i in range(0, len(votes), 5):\n",
    "    republic_vote_count.append(votes[i])\n",
    "for i in range(1, len(votes), 5):\n",
    "    democratic_vote_count.append(votes[i])\n",
    "    \n",
    "dataFrame = pd.DataFrame({\"County\" : county, \n",
    "                          \"Democratic\": democratic_vote_count, \n",
    "                          \"Republic\" : republic_vote_count}) \n",
    "\n",
    "dataFrame = dataFrame.sort_values(by = \"Democratic\").reset_index(drop=True)\n",
    "\n",
    "# the assignment asks for print without index and header\n",
    "print(dataFrame.to_string(index = False, header = False))"
   ]
  },
  {
   "cell_type": "markdown",
   "id": "e333993a",
   "metadata": {},
   "source": [
    "## 3. Near-duplicate detection"
   ]
  },
  {
   "cell_type": "code",
   "execution_count": 4,
   "id": "76c856cc",
   "metadata": {},
   "outputs": [
    {
     "data": {
      "text/plain": [
       "{'This is an': 1,\n",
       " 'is an awesome': 1,\n",
       " 'an awesome tweet,': 1,\n",
       " 'awesome tweet, dude': 1}"
      ]
     },
     "execution_count": 4,
     "metadata": {},
     "output_type": "execute_result"
    }
   ],
   "source": [
    "def moving_window(string):\n",
    "    \"\"\" \n",
    "    This function outputs a list of phrases which are 3 words long and \n",
    "    takes a sentence as an input.\n",
    "    A window (3 word long) moves along the sentence and extracts these\n",
    "    phrases and returns these phrases as a list.\n",
    "    \"\"\"\n",
    "    dict_of_phrases = {}\n",
    "    \n",
    "    # cleaning the string\n",
    "    string = string.rstrip('\\n')\n",
    "    string = string.strip('\"')\n",
    "    string = string.rstrip('\\n')\n",
    "    \n",
    "    words = string.split()\n",
    "    \n",
    "    ## hypens and .. are being considered as separate words.\n",
    "    ## let's combine these things with their preceding word\n",
    "    i = 0\n",
    "    \n",
    "    ## using while loop instead of for loop because it is easier \n",
    "    ## for controlling the flow when we are manuplating the iteration list itself\n",
    "    while i < len(words):\n",
    "        if (i == len(words)):\n",
    "            break\n",
    "        if(words[i] == '-') | (words[i] == '...'):\n",
    "            words[i-1] = ' '.join([words[i - 1], words[i]])\n",
    "            words.remove(words[i])\n",
    "            i -= 1\n",
    "        i += 1\n",
    "    \n",
    "    # creating tri-gram dict\n",
    "    for i in range(0, len(words) - 2):\n",
    "        phrase = ' '.join(words[i : i + 3])\n",
    "        \n",
    "        # remove trailing hyphens and ..., if any\n",
    "        phrase = phrase.rstrip(' ...')\n",
    "        phrase = phrase.rstrip(' -')\n",
    "        phrase = phrase.rstrip(' ...')\n",
    "        \n",
    "        # updating the dict with tri-gram\n",
    "        dict_of_phrases[phrase] = 1\n",
    "    \n",
    "    return dict_of_phrases\n",
    "\n",
    "# sample execution\n",
    "moving_window('This is an awesome tweet, dude')"
   ]
  },
  {
   "cell_type": "code",
   "execution_count": 5,
   "id": "8ab6af3b",
   "metadata": {},
   "outputs": [
    {
     "data": {
      "text/plain": [
       "0.7337993857053429"
      ]
     },
     "execution_count": 5,
     "metadata": {},
     "output_type": "execute_result"
    }
   ],
   "source": [
    "def cosine(dict1, dict2):\n",
    "    \"\"\"\n",
    "    Calculates cosine value between two dicts (or vectors)\n",
    "    This cosine value is used to understand the similarity between 2 given vectors\n",
    "    \"\"\"\n",
    "    matches = 0\n",
    "    for key in dict1:\n",
    "        if key in dict2:\n",
    "            matches += 1\n",
    "    den = math.sqrt(len(dict1) * len(dict2))\n",
    "    \n",
    "    cosine_value = matches / den\n",
    "    \n",
    "    return cosine_value\n",
    "\n",
    "#sample execution\n",
    "cosine(moving_window(\"Santa Claus Is Coming To Town #MTVHottest Justin Bieber\"),\n",
    "      moving_window(\"RT @DrewFtDevonne_: Rt si te gusta Santa Claus Is Coming To Town #MTVHottest Justin Bieber\"))"
   ]
  },
  {
   "cell_type": "code",
   "execution_count": 6,
   "id": "7c564272",
   "metadata": {
    "scrolled": true
   },
   "outputs": [
    {
     "name": "stdout",
     "output_type": "stream",
     "text": [
      "Following tweets are nearly same:\n",
      "Tweet match score:  0.8593378488473195\n",
      "Tweet 1:  SPECIAL SECRET HEARTS: A Child's Introduction to Dementia and Pink Curls - A Santa ... - http://t.co/UWCdc8FA9a http://t.co/meexKLGTKl\n",
      "\n",
      "Tweet 2:  RT @BuyBookstore: SPECIAL SECRET HEARTS: A Child's Introduction to Dementia and Pink Curls - A Santa ... - http://t.co/UWCdc8FA9a http://t.Â…\n",
      "\n",
      "Tweet match score:  0.7337993857053429\n",
      "Tweet 1:  \"Santa Claus Is Coming To Town #MTVHottest Justin Bieber\"\n",
      "\n",
      "Tweet 2:  \"RT @DrewFtDevonne_: Rt si te gusta Santa Claus Is Coming To Town #MTVHottest Justin Bieber\"\n",
      "\n",
      "Tweet match score:  0.7977240352174656\n",
      "Tweet 1:  \"Santa Claus Is Coming To Town #MTVHottest Justin Bieber\"\n",
      "\n",
      "Tweet 2:  \"Rt si te gusta Santa Claus Is Coming To Town #MTVHottest Justin Bieber\"\n",
      "\n",
      "Tweet match score:  0.9198662110077999\n",
      "Tweet 1:  \"RT @DrewFtDevonne_: Rt si te gusta Santa Claus Is Coming To Town #MTVHottest Justin Bieber\"\n",
      "\n",
      "Tweet 2:  \"Rt si te gusta Santa Claus Is Coming To Town #MTVHottest Justin Bieber\"\n",
      "\n"
     ]
    }
   ],
   "source": [
    "# reading file\n",
    "f = open('Santa.txt', 'r')\n",
    "tweets  = f.readlines()\n",
    "#closing opened file\n",
    "f.close()\n",
    "\n",
    "dicts = []\n",
    "\n",
    "for t in tweets:\n",
    "    dicts.append(moving_window(t))\n",
    "    \n",
    "print(\"Following tweets are nearly same:\")\n",
    "            \n",
    "for i in range(0, len(dicts)):\n",
    "    for j in range(i + 1, len(dicts)):\n",
    "        val = cosine(dicts[i], dicts[j])\n",
    "        if val > 0.5:\n",
    "            print(\"Tweet match score: \", val)\n",
    "            print(\"Tweet 1: \",tweets[i])\n",
    "            print(\"Tweet 2: \",tweets[j])\n",
    "        "
   ]
  },
  {
   "cell_type": "markdown",
   "id": "f395c834",
   "metadata": {},
   "source": [
    "## 4. The Google of Quotes"
   ]
  },
  {
   "cell_type": "code",
   "execution_count": 7,
   "id": "6d522561",
   "metadata": {},
   "outputs": [
    {
     "name": "stdout",
     "output_type": "stream",
     "text": [
      "How we spend our days is, of course, how we spend our lives. - Annie Dillard\n"
     ]
    }
   ],
   "source": [
    "# reading file\n",
    "f = open('quotes.txt', 'r')\n",
    "data  = f.readlines()\n",
    "#closing opened file\n",
    "f.close()\n",
    "\n",
    "## converting lines into full list\n",
    "full_quotes_list = []\n",
    "\n",
    "for i in range(0, len(data), 2):\n",
    "    quote = data[i].rstrip('\\n')\n",
    "    author = data[i+1].rstrip('\\n')\n",
    "    full_quote = quote + \" - \" + author\n",
    "    full_quotes_list.append(full_quote)\n",
    "\n",
    "# sample execution\n",
    "print(full_quotes_list[0])"
   ]
  },
  {
   "cell_type": "code",
   "execution_count": 8,
   "id": "2018cf41",
   "metadata": {},
   "outputs": [
    {
     "name": "stdout",
     "output_type": "stream",
     "text": [
      "['how', 'we', 'spend', 'our', 'days', 'is', 'of', 'course', 'how', 'we', 'spend', 'our', 'lives', 'annie', 'dillard']\n"
     ]
    }
   ],
   "source": [
    "def vectorizer(line):\n",
    "    \"\"\"\n",
    "    Lower cases the input sentence and converts it into list of words.\n",
    "    \"\"\"\n",
    "    input_string  = line.lower()\n",
    "    words = [re.sub(r'[^\\w]+', '', w) for w in re.split(r'[\\s\\.\\'-]', input_string) if not len(w) == 0]\n",
    "    return words\n",
    "\n",
    "# sample execution\n",
    "print(vectorizer(full_quotes_list[0]))"
   ]
  },
  {
   "cell_type": "code",
   "execution_count": 9,
   "id": "d634ab73",
   "metadata": {},
   "outputs": [
    {
     "name": "stdout",
     "output_type": "stream",
     "text": [
      "{'how': 2, 'we': 2, 'spend': 2, 'our': 2, 'days': 1, 'is': 1, 'of': 1, 'course': 1, 'lives': 1, 'annie': 1, 'dillard': 1}\n"
     ]
    }
   ],
   "source": [
    "def term_frequency(line):\n",
    "    \"\"\"\n",
    "    For a given sentence, the function creates a dictinoary.\n",
    "    This dictionary uses each word as key and has the frequency of word in that sentence(or document) as value  \n",
    "    \"\"\"\n",
    "    vector = vectorizer(line)\n",
    "    term_frequency_dict = {}\n",
    "    \n",
    "    for w in vector:\n",
    "        if w in term_frequency_dict:\n",
    "            term_frequency_dict[w] += 1\n",
    "        else:\n",
    "            term_frequency_dict[w] = 1\n",
    "    \n",
    "    return term_frequency_dict\n",
    "\n",
    "posting_list_dict = {}\n",
    "\n",
    "for quote in full_quotes_list:\n",
    "    posting_list_dict[quote] = term_frequency(quote)\n",
    "    \n",
    "#sample execution\n",
    "print(posting_list_dict[full_quotes_list[0]])"
   ]
  },
  {
   "cell_type": "code",
   "execution_count": 10,
   "id": "125a647c",
   "metadata": {},
   "outputs": [
    {
     "name": "stdout",
     "output_type": "stream",
     "text": [
      "{'An actor is at most a poet and at least an entertainer. - Marlon Brando': 1}\n"
     ]
    }
   ],
   "source": [
    "reverse_posting_dict = {}\n",
    "\n",
    "## creating reverse posting dict\n",
    "## this dict has each word as key and a dict as value\n",
    "## this dict (value) has each quote (or document) as key and frequency of word(key) in that quote as value\n",
    "\n",
    "for quote, term_freq_dict in posting_list_dict.items():\n",
    "    for word, freq in term_freq_dict.items():\n",
    "        if word not in reverse_posting_dict:\n",
    "            reverse_posting_dict[word] = {}\n",
    "            \n",
    "        reverse_posting_dict[word][quote] = freq\n",
    "        \n",
    "#sample execution\n",
    "print(reverse_posting_dict['entertainer'])"
   ]
  },
  {
   "cell_type": "code",
   "execution_count": 11,
   "id": "c4ad4678",
   "metadata": {},
   "outputs": [
    {
     "name": "stdout",
     "output_type": "stream",
     "text": [
      "1.4737168609435252\n"
     ]
    }
   ],
   "source": [
    "def calculate_tf_idf(word, quote, posting, reverse_posting):\n",
    "    \"\"\"\n",
    "    For a given word, quote, posting dict and reverse posting, calculates the tf-idf score.\n",
    "    \"\"\"\n",
    "    quote_count = len(posting)\n",
    "    relevant_quotes = len(reverse_posting[word]) # number of docs contain the term\n",
    "    IDF = math.log(quote_count / relevant_quotes, 10)\n",
    "    \n",
    "    TF = posting[quote][word] / max(list(posting[quote].values())) \n",
    "    \n",
    "    return TF * IDF\n",
    "\n",
    "#sample execution\n",
    "print(calculate_tf_idf('entertainer',\n",
    "                      'An actor is at most a poet and at least an entertainer. - Marlon Brando',\n",
    "                      posting_list_dict,\n",
    "                      reverse_posting_dict))"
   ]
  },
  {
   "cell_type": "code",
   "execution_count": 12,
   "id": "67616b26",
   "metadata": {},
   "outputs": [
    {
     "name": "stdout",
     "output_type": "stream",
     "text": [
      "{'An actor is at most a poet and at least an entertainer. - Marlon Brando': 1.4737168609435252}\n"
     ]
    }
   ],
   "source": [
    "def find_quotes(word, posting, reverse_posting):\n",
    "    \"\"\"\n",
    "    for a given word, this function returns a dictionary\n",
    "    This dict uses phrase(which contains this word) as key and \n",
    "    corresponding tf-idf score as value(word and phrase)\n",
    "    \"\"\"\n",
    "    tf_idf_scores = {}\n",
    "    for phrase in reverse_posting[word]:\n",
    "        tf_idf_scores[phrase] = calculate_tf_idf(word, phrase, posting, reverse_posting)\n",
    "    \n",
    "    return tf_idf_scores\n",
    "\n",
    "# sample execution\n",
    "print(find_quotes(\"entertainer\",\n",
    "                 posting_list_dict,\n",
    "                 reverse_posting_dict))"
   ]
  },
  {
   "cell_type": "code",
   "execution_count": 13,
   "id": "aac71b3f",
   "metadata": {},
   "outputs": [
    {
     "name": "stdout",
     "output_type": "stream",
     "text": [
      "{'The heart has its reasons, of which the mind knows nothing. - Blaise Pascal': 1.8593880923592099, 'In every man`s heart there is a secret nerve that answers to the vibrations of beauty. - Christopher Morley': 1.9474337218870506, 'Everybody can be great... because anybody can serve. You don`t have to have a college degree to serve. You don`t have to make your subject and verb agree to serve. You only need a heart full of grace. A soul generated by love. - Martin Luther King Jr.': 0.48685843047176264, 'Love anything and your heart will be wrung and possibly broken. If you want to make sure of keeping it intact you must give it to no one, not even an animal. Wrap it carefully round with hobbies and little luxuries; avoid all entanglements. Lock it up safe in the casket or coffin of your selfishness. But in that casket, safe, dark, motionless, airless, it will change. It will not be broken; it will become unbreakable, impenetrable, irredeemable. To love is to be vulnerable. - C.S. Lewis': 0.2782048174124358, 'We all wish to be judged by our peers, by the men `after our own heart.` Only they really know our mind and only they judge it by standards we fully acknowledge. Theirs is the praise we really covet and the blame we really dread. The little pockets of early Chrstians survived because they cared exclusively for the love of `the bretheren` and stopped their ears to the opinion of the Pagan society around them. But a circle of criminals, cranks, or perverts survives in just the same way; by becoming deaf to the opinion of the outer world, by discounting it as the chatter of outsiders who `don`t understand,` of the `conventional,` the `bourgeois,` the `Establishment,` of prigs, prudes, and humbugs. - C.S. Lewis': 0.2479184123145613, 'I will honor Christmas in my heart, and try to keep it all the year. - Charles Dickens': 1.9474337218870506, 'Show me your hands. Do they have scars from giving? Show me your feet. Are they wounded in service? Show me your heart. Have you left a place for divine love? - Fulton J. Sheen': 0.6491445739623501, '`Tis the business of little minds to shrink, but he whose heart is firm, and whose conscience approves his conduct, will pursue his principles unto death. - Thomas Paine': 0.9737168609435253, 'The best and most beautiful things in the world cannot be seen or even touched. They must be felt with the heart. - Helen Keller': 0.6491445739623501, 'The mystic chords of memory, stretching from every battlefield and patriot grave to every living heart and hearthstone all over this broad land, will yet swell the chorus of the Union, when again touched, as surely they will be, by the better angels of our nature. - Abraham Lincoln': 0.48685843047176264, 'It is necessary for the welfare of society that genius should be privileged to utter sedition, to blaspheme, to outrage good taste, to corrupt the youthful mind, and generally to scandalize one`s uncles. - George Bernard Shaw': 0.35426849256627385, 'It is always thus, impelled by a state of mind which is destined not to last, that we make our irrevocable decisions. - Marcel Proust': 0.8856712314156846, 'A mind that is stretched by a new experience can never go back to its old dimensions. - Oliver Wendell Holmes': 0.8856712314156846, 'The mind of the thoroughly well-informed man is a dreadful thing. It is like a bric-à-brac shop, all monsters and dust, with everything priced above its proper value. - Oscar Wilde': 0.8856712314156846, 'No passion so effectually robs the mind of all its powers of acting and reasoning as fear. - Edmund Burke': 0.8856712314156846, 'Too many poets delude themselves by thinking that the mind is dangerous and must be left out. Well, the mind is dangerous and must be left in. - Robert Frost': 1.7713424628313692, 'It is your mind that creates this world. - Siddhartha Buddha': 1.7713424628313692, 'As every divided kingdom falls, so every mind divided between many studies confounds and saps itself. - Leonardo da Vinci': 0.8856712314156846, 'My mind is my own church. - Thomas Paine': 0.8856712314156846, 'What we are today comes from our thoughts of yesterday and our present thoughts build our life tomorrow. Our life is the creation of our mind. - Siddhartha Buddha': 0.35426849256627385, 'Beauty is ever to the lonely mind a shadow fleeting; she is never plain. She is a visitor who leaves behind the gift of grief, the souvenir of pain. - Christopher Morley': 0.5904474876104564, 'What a man`s mind can create, man`s character can control. - Thomas Edison': 0.8856712314156846, 'Games lubricate the body and the mind. - Benjamin Franklin': 0.8856712314156846, 'Everything that used to be a sin is now a disease. - Bill Maher': 1.4737168609435252}\n"
     ]
    }
   ],
   "source": [
    "def find_quotes_list(word_list, posting, reverse_posting):\n",
    "    \"\"\"\n",
    "    for a given list of words, this fucntion returns a dictionary.\n",
    "    This dict uses phrase(which contain one or nmore words from the list) as key \n",
    "    and corresponding total tf-idf score as value. This tf-idf score will be\n",
    "    summation of all the individual tf-idf scores\n",
    "    \"\"\"\n",
    "    \n",
    "    quotes_dict = {}\n",
    "    \n",
    "    for word in word_list:\n",
    "        tf_idf_scores = find_quotes(word, posting, reverse_posting)\n",
    "        for phrase, score in tf_idf_scores.items():\n",
    "            if phrase not in quotes_dict:\n",
    "                quotes_dict[phrase] = score\n",
    "            else:\n",
    "                quotes_dict[phrase] += score\n",
    "    \n",
    "    return quotes_dict\n",
    "\n",
    "# sample execution\n",
    "print(find_quotes_list(['heart', 'mind', 'disease'],\n",
    "                       posting_list_dict,\n",
    "                       reverse_posting_dict))"
   ]
  },
  {
   "cell_type": "code",
   "execution_count": null,
   "id": "6548a9b3",
   "metadata": {},
   "outputs": [],
   "source": []
  }
 ],
 "metadata": {
  "kernelspec": {
   "display_name": "Python 3",
   "language": "python",
   "name": "python3"
  },
  "language_info": {
   "codemirror_mode": {
    "name": "ipython",
    "version": 3
   },
   "file_extension": ".py",
   "mimetype": "text/x-python",
   "name": "python",
   "nbconvert_exporter": "python",
   "pygments_lexer": "ipython3",
   "version": "3.8.8"
  },
  "varInspector": {
   "cols": {
    "lenName": 16,
    "lenType": 16,
    "lenVar": 40
   },
   "kernels_config": {
    "python": {
     "delete_cmd_postfix": "",
     "delete_cmd_prefix": "del ",
     "library": "var_list.py",
     "varRefreshCmd": "print(var_dic_list())"
    },
    "r": {
     "delete_cmd_postfix": ") ",
     "delete_cmd_prefix": "rm(",
     "library": "var_list.r",
     "varRefreshCmd": "cat(var_dic_list()) "
    }
   },
   "position": {
    "height": "365.663px",
    "left": "1147.32px",
    "right": "20px",
    "top": "110px",
    "width": "306.989px"
   },
   "types_to_exclude": [
    "module",
    "function",
    "builtin_function_or_method",
    "instance",
    "_Feature"
   ],
   "window_display": false
  }
 },
 "nbformat": 4,
 "nbformat_minor": 5
}
